{
 "cells": [
  {
   "cell_type": "code",
   "execution_count": 1,
   "id": "43dc136d",
   "metadata": {
    "execution": {
     "iopub.execute_input": "2024-04-06T06:38:37.903089Z",
     "iopub.status.busy": "2024-04-06T06:38:37.902612Z",
     "iopub.status.idle": "2024-04-06T06:38:40.888665Z",
     "shell.execute_reply": "2024-04-06T06:38:40.887497Z"
    },
    "papermill": {
     "duration": 2.99836,
     "end_time": "2024-04-06T06:38:40.891500",
     "exception": false,
     "start_time": "2024-04-06T06:38:37.893140",
     "status": "completed"
    },
    "tags": []
   },
   "outputs": [],
   "source": [
    "import pandas as pd\n",
    "import matplotlib.pyplot as plt\n",
    "\n",
    "from sklearn.preprocessing import LabelEncoder\n",
    "from sklearn.model_selection import train_test_split\n",
    "\n",
    "from sklearn.linear_model import LogisticRegression, RidgeClassifier\n",
    "from sklearn.tree import DecisionTreeClassifier\n",
    "\n",
    "from sklearn.naive_bayes import GaussianNB\n",
    "from sklearn.neural_network import MLPClassifier\n",
    "from sklearn.ensemble import RandomForestClassifier\n",
    "\n",
    "from sklearn.metrics import classification_report"
   ]
  },
  {
   "cell_type": "code",
   "execution_count": 2,
   "id": "4e4c50f2",
   "metadata": {
    "execution": {
     "iopub.execute_input": "2024-04-06T06:38:40.907890Z",
     "iopub.status.busy": "2024-04-06T06:38:40.907325Z",
     "iopub.status.idle": "2024-04-06T06:38:40.957098Z",
     "shell.execute_reply": "2024-04-06T06:38:40.955912Z"
    },
    "papermill": {
     "duration": 0.060988,
     "end_time": "2024-04-06T06:38:40.959898",
     "exception": false,
     "start_time": "2024-04-06T06:38:40.898910",
     "status": "completed"
    },
    "tags": []
   },
   "outputs": [],
   "source": [
    "data = pd.read_csv('E:/fithou/NMKP/merged_file1.csv')\n"
   ]
  },
  {
   "cell_type": "code",
   "execution_count": 3,
   "id": "fa40bbee",
   "metadata": {
    "execution": {
     "iopub.execute_input": "2024-04-06T06:38:40.976809Z",
     "iopub.status.busy": "2024-04-06T06:38:40.976315Z",
     "iopub.status.idle": "2024-04-06T06:38:41.010749Z",
     "shell.execute_reply": "2024-04-06T06:38:41.009476Z"
    },
    "papermill": {
     "duration": 0.046565,
     "end_time": "2024-04-06T06:38:41.013747",
     "exception": false,
     "start_time": "2024-04-06T06:38:40.967182",
     "status": "completed"
    },
    "tags": []
   },
   "outputs": [
    {
     "data": {
      "text/html": [
       "<div>\n",
       "<style scoped>\n",
       "    .dataframe tbody tr th:only-of-type {\n",
       "        vertical-align: middle;\n",
       "    }\n",
       "\n",
       "    .dataframe tbody tr th {\n",
       "        vertical-align: top;\n",
       "    }\n",
       "\n",
       "    .dataframe thead th {\n",
       "        text-align: right;\n",
       "    }\n",
       "</style>\n",
       "<table border=\"1\" class=\"dataframe\">\n",
       "  <thead>\n",
       "    <tr style=\"text-align: right;\">\n",
       "      <th></th>\n",
       "      <th>veil-color</th>\n",
       "      <th>habitat</th>\n",
       "      <th>ring-type</th>\n",
       "      <th>cap-shape</th>\n",
       "      <th>spore-print-color</th>\n",
       "      <th>cap-color</th>\n",
       "      <th>gill-attachment</th>\n",
       "      <th>veil-type</th>\n",
       "      <th>gill-color</th>\n",
       "      <th>gill-spacing</th>\n",
       "      <th>cap-surface</th>\n",
       "      <th>class</th>\n",
       "    </tr>\n",
       "  </thead>\n",
       "  <tbody>\n",
       "    <tr>\n",
       "      <th>0</th>\n",
       "      <td>4</td>\n",
       "      <td>2</td>\n",
       "      <td>7</td>\n",
       "      <td>3</td>\n",
       "      <td>9</td>\n",
       "      <td>3</td>\n",
       "      <td>4</td>\n",
       "      <td>2</td>\n",
       "      <td>10</td>\n",
       "      <td>4</td>\n",
       "      <td>0</td>\n",
       "      <td>Yes</td>\n",
       "    </tr>\n",
       "    <tr>\n",
       "      <th>1</th>\n",
       "      <td>4</td>\n",
       "      <td>0</td>\n",
       "      <td>7</td>\n",
       "      <td>3</td>\n",
       "      <td>5</td>\n",
       "      <td>7</td>\n",
       "      <td>4</td>\n",
       "      <td>2</td>\n",
       "      <td>10</td>\n",
       "      <td>4</td>\n",
       "      <td>0</td>\n",
       "      <td>No</td>\n",
       "    </tr>\n",
       "    <tr>\n",
       "      <th>2</th>\n",
       "      <td>4</td>\n",
       "      <td>7</td>\n",
       "      <td>7</td>\n",
       "      <td>5</td>\n",
       "      <td>5</td>\n",
       "      <td>6</td>\n",
       "      <td>4</td>\n",
       "      <td>2</td>\n",
       "      <td>4</td>\n",
       "      <td>4</td>\n",
       "      <td>0</td>\n",
       "      <td>No</td>\n",
       "    </tr>\n",
       "    <tr>\n",
       "      <th>3</th>\n",
       "      <td>4</td>\n",
       "      <td>2</td>\n",
       "      <td>7</td>\n",
       "      <td>3</td>\n",
       "      <td>9</td>\n",
       "      <td>6</td>\n",
       "      <td>4</td>\n",
       "      <td>2</td>\n",
       "      <td>4</td>\n",
       "      <td>4</td>\n",
       "      <td>9</td>\n",
       "      <td>Yes</td>\n",
       "    </tr>\n",
       "    <tr>\n",
       "      <th>4</th>\n",
       "      <td>4</td>\n",
       "      <td>0</td>\n",
       "      <td>9</td>\n",
       "      <td>3</td>\n",
       "      <td>5</td>\n",
       "      <td>1</td>\n",
       "      <td>4</td>\n",
       "      <td>2</td>\n",
       "      <td>10</td>\n",
       "      <td>3</td>\n",
       "      <td>0</td>\n",
       "      <td>No</td>\n",
       "    </tr>\n",
       "  </tbody>\n",
       "</table>\n",
       "</div>"
      ],
      "text/plain": [
       "   veil-color  habitat  ring-type  cap-shape  spore-print-color  cap-color  \\\n",
       "0           4        2          7          3                  9          3   \n",
       "1           4        0          7          3                  5          7   \n",
       "2           4        7          7          5                  5          6   \n",
       "3           4        2          7          3                  9          6   \n",
       "4           4        0          9          3                  5          1   \n",
       "\n",
       "   gill-attachment  veil-type  gill-color  gill-spacing  cap-surface class  \n",
       "0                4          2          10             4            0   Yes  \n",
       "1                4          2          10             4            0    No  \n",
       "2                4          2           4             4            0    No  \n",
       "3                4          2           4             4            9   Yes  \n",
       "4                4          2          10             3            0    No  "
      ]
     },
     "execution_count": 3,
     "metadata": {},
     "output_type": "execute_result"
    }
   ],
   "source": [
    "data.head()"
   ]
  },
  {
   "cell_type": "code",
   "execution_count": 4,
   "id": "e2c76a38",
   "metadata": {
    "execution": {
     "iopub.execute_input": "2024-04-06T06:38:41.031492Z",
     "iopub.status.busy": "2024-04-06T06:38:41.030609Z",
     "iopub.status.idle": "2024-04-06T06:38:41.047445Z",
     "shell.execute_reply": "2024-04-06T06:38:41.046202Z"
    },
    "papermill": {
     "duration": 0.02829,
     "end_time": "2024-04-06T06:38:41.049832",
     "exception": false,
     "start_time": "2024-04-06T06:38:41.021542",
     "status": "completed"
    },
    "tags": []
   },
   "outputs": [
    {
     "data": {
      "text/plain": [
       "class\n",
       "Yes    37658\n",
       "No     31389\n",
       "Name: count, dtype: int64"
      ]
     },
     "execution_count": 4,
     "metadata": {},
     "output_type": "execute_result"
    }
   ],
   "source": [
    "classes = data['class'].value_counts()\n",
    "\n",
    "classes"
   ]
  },
  {
   "cell_type": "code",
   "execution_count": 5,
   "id": "7793e9d8",
   "metadata": {
    "execution": {
     "iopub.execute_input": "2024-04-06T06:38:41.068170Z",
     "iopub.status.busy": "2024-04-06T06:38:41.067784Z",
     "iopub.status.idle": "2024-04-06T06:38:41.318835Z",
     "shell.execute_reply": "2024-04-06T06:38:41.317638Z"
    },
    "papermill": {
     "duration": 0.263327,
     "end_time": "2024-04-06T06:38:41.321354",
     "exception": false,
     "start_time": "2024-04-06T06:38:41.058027",
     "status": "completed"
    },
    "tags": []
   },
   "outputs": [
    {
     "data": {
      "image/png": "[encoded data removed]",
      "text/plain": [
       "<Figure size 640x480 with 1 Axes>"
      ]
     },
     "metadata": {},
     "output_type": "display_data"
    }
   ],
   "source": [
    "plt.bar('Edible', classes['No'])\n",
    "\n",
    "plt.bar('Poisonous', classes['Yes'])\n",
    "\n",
    "plt.show()"
   ]
  },
  {
   "cell_type": "code",
   "execution_count": 6,
   "id": "173dbf61",
   "metadata": {
    "execution": {
     "iopub.execute_input": "2024-04-06T06:38:41.340041Z",
     "iopub.status.busy": "2024-04-06T06:38:41.339038Z",
     "iopub.status.idle": "2024-04-06T06:38:41.351640Z",
     "shell.execute_reply": "2024-04-06T06:38:41.350475Z"
    },
    "papermill": {
     "duration": 0.024817,
     "end_time": "2024-04-06T06:38:41.354428",
     "exception": false,
     "start_time": "2024-04-06T06:38:41.329611",
     "status": "completed"
    },
    "tags": []
   },
   "outputs": [],
   "source": [
    "X = data.loc[:, ['veil-color','habitat', 'ring-type','cap-shape','spore-print-color','cap-color','gill-attachment','veil-type','gill-color', \"gill-spacing\", \"cap-surface\"]]\n",
    "\n",
    "y = data.loc[:, 'class']"
   ]
  },
  {
   "cell_type": "code",
   "execution_count": 7,
   "id": "e884ff7f",
   "metadata": {
    "execution": {
     "iopub.execute_input": "2024-04-06T06:38:41.372783Z",
     "iopub.status.busy": "2024-04-06T06:38:41.372375Z",
     "iopub.status.idle": "2024-04-06T06:38:41.392182Z",
     "shell.execute_reply": "2024-04-06T06:38:41.390951Z"
    },
    "papermill": {
     "duration": 0.03213,
     "end_time": "2024-04-06T06:38:41.394776",
     "exception": false,
     "start_time": "2024-04-06T06:38:41.362646",
     "status": "completed"
    },
    "tags": []
   },
   "outputs": [],
   "source": [
    "encoder = LabelEncoder()\n",
    "for i in X.columns:\n",
    "    X[i] = encoder.fit_transform(X[i])\n",
    "    \n",
    "y = encoder.fit_transform(y)"
   ]
  },
  {
   "cell_type": "code",
   "execution_count": 8,
   "id": "70032d47",
   "metadata": {
    "execution": {
     "iopub.execute_input": "2024-04-06T06:38:41.412890Z",
     "iopub.status.busy": "2024-04-06T06:38:41.412517Z",
     "iopub.status.idle": "2024-04-06T06:38:41.427831Z",
     "shell.execute_reply": "2024-04-06T06:38:41.426642Z"
    },
    "papermill": {
     "duration": 0.027297,
     "end_time": "2024-04-06T06:38:41.430278",
     "exception": false,
     "start_time": "2024-04-06T06:38:41.402981",
     "status": "completed"
    },
    "tags": []
   },
   "outputs": [
    {
     "data": {
      "text/html": [
       "<div>\n",
       "<style scoped>\n",
       "    .dataframe tbody tr th:only-of-type {\n",
       "        vertical-align: middle;\n",
       "    }\n",
       "\n",
       "    .dataframe tbody tr th {\n",
       "        vertical-align: top;\n",
       "    }\n",
       "\n",
       "    .dataframe thead th {\n",
       "        text-align: right;\n",
       "    }\n",
       "</style>\n",
       "<table border=\"1\" class=\"dataframe\">\n",
       "  <thead>\n",
       "    <tr style=\"text-align: right;\">\n",
       "      <th></th>\n",
       "      <th>veil-color</th>\n",
       "      <th>habitat</th>\n",
       "      <th>ring-type</th>\n",
       "      <th>cap-shape</th>\n",
       "      <th>spore-print-color</th>\n",
       "      <th>cap-color</th>\n",
       "      <th>gill-attachment</th>\n",
       "      <th>veil-type</th>\n",
       "      <th>gill-color</th>\n",
       "      <th>gill-spacing</th>\n",
       "      <th>cap-surface</th>\n",
       "    </tr>\n",
       "  </thead>\n",
       "  <tbody>\n",
       "    <tr>\n",
       "      <th>0</th>\n",
       "      <td>4</td>\n",
       "      <td>2</td>\n",
       "      <td>7</td>\n",
       "      <td>3</td>\n",
       "      <td>9</td>\n",
       "      <td>3</td>\n",
       "      <td>4</td>\n",
       "      <td>2</td>\n",
       "      <td>10</td>\n",
       "      <td>4</td>\n",
       "      <td>0</td>\n",
       "    </tr>\n",
       "    <tr>\n",
       "      <th>1</th>\n",
       "      <td>4</td>\n",
       "      <td>0</td>\n",
       "      <td>7</td>\n",
       "      <td>3</td>\n",
       "      <td>5</td>\n",
       "      <td>7</td>\n",
       "      <td>4</td>\n",
       "      <td>2</td>\n",
       "      <td>10</td>\n",
       "      <td>4</td>\n",
       "      <td>0</td>\n",
       "    </tr>\n",
       "    <tr>\n",
       "      <th>2</th>\n",
       "      <td>4</td>\n",
       "      <td>7</td>\n",
       "      <td>7</td>\n",
       "      <td>5</td>\n",
       "      <td>5</td>\n",
       "      <td>6</td>\n",
       "      <td>4</td>\n",
       "      <td>2</td>\n",
       "      <td>4</td>\n",
       "      <td>4</td>\n",
       "      <td>0</td>\n",
       "    </tr>\n",
       "    <tr>\n",
       "      <th>3</th>\n",
       "      <td>4</td>\n",
       "      <td>2</td>\n",
       "      <td>7</td>\n",
       "      <td>3</td>\n",
       "      <td>9</td>\n",
       "      <td>6</td>\n",
       "      <td>4</td>\n",
       "      <td>2</td>\n",
       "      <td>4</td>\n",
       "      <td>4</td>\n",
       "      <td>9</td>\n",
       "    </tr>\n",
       "    <tr>\n",
       "      <th>4</th>\n",
       "      <td>4</td>\n",
       "      <td>0</td>\n",
       "      <td>9</td>\n",
       "      <td>3</td>\n",
       "      <td>5</td>\n",
       "      <td>1</td>\n",
       "      <td>4</td>\n",
       "      <td>2</td>\n",
       "      <td>10</td>\n",
       "      <td>3</td>\n",
       "      <td>0</td>\n",
       "    </tr>\n",
       "    <tr>\n",
       "      <th>...</th>\n",
       "      <td>...</td>\n",
       "      <td>...</td>\n",
       "      <td>...</td>\n",
       "      <td>...</td>\n",
       "      <td>...</td>\n",
       "      <td>...</td>\n",
       "      <td>...</td>\n",
       "      <td>...</td>\n",
       "      <td>...</td>\n",
       "      <td>...</td>\n",
       "      <td>...</td>\n",
       "    </tr>\n",
       "    <tr>\n",
       "      <th>69042</th>\n",
       "      <td>3</td>\n",
       "      <td>3</td>\n",
       "      <td>3</td>\n",
       "      <td>0</td>\n",
       "      <td>7</td>\n",
       "      <td>7</td>\n",
       "      <td>4</td>\n",
       "      <td>0</td>\n",
       "      <td>7</td>\n",
       "      <td>2</td>\n",
       "      <td>0</td>\n",
       "    </tr>\n",
       "    <tr>\n",
       "      <th>69043</th>\n",
       "      <td>3</td>\n",
       "      <td>3</td>\n",
       "      <td>3</td>\n",
       "      <td>2</td>\n",
       "      <td>7</td>\n",
       "      <td>7</td>\n",
       "      <td>4</td>\n",
       "      <td>0</td>\n",
       "      <td>7</td>\n",
       "      <td>2</td>\n",
       "      <td>0</td>\n",
       "    </tr>\n",
       "    <tr>\n",
       "      <th>69044</th>\n",
       "      <td>3</td>\n",
       "      <td>3</td>\n",
       "      <td>3</td>\n",
       "      <td>0</td>\n",
       "      <td>7</td>\n",
       "      <td>7</td>\n",
       "      <td>4</td>\n",
       "      <td>0</td>\n",
       "      <td>7</td>\n",
       "      <td>2</td>\n",
       "      <td>0</td>\n",
       "    </tr>\n",
       "    <tr>\n",
       "      <th>69045</th>\n",
       "      <td>3</td>\n",
       "      <td>3</td>\n",
       "      <td>3</td>\n",
       "      <td>2</td>\n",
       "      <td>7</td>\n",
       "      <td>7</td>\n",
       "      <td>4</td>\n",
       "      <td>0</td>\n",
       "      <td>7</td>\n",
       "      <td>2</td>\n",
       "      <td>0</td>\n",
       "    </tr>\n",
       "    <tr>\n",
       "      <th>69046</th>\n",
       "      <td>3</td>\n",
       "      <td>3</td>\n",
       "      <td>3</td>\n",
       "      <td>0</td>\n",
       "      <td>7</td>\n",
       "      <td>7</td>\n",
       "      <td>4</td>\n",
       "      <td>0</td>\n",
       "      <td>7</td>\n",
       "      <td>2</td>\n",
       "      <td>0</td>\n",
       "    </tr>\n",
       "  </tbody>\n",
       "</table>\n",
       "<p>69047 rows × 11 columns</p>\n",
       "</div>"
      ],
      "text/plain": [
       "       veil-color  habitat  ring-type  cap-shape  spore-print-color  \\\n",
       "0               4        2          7          3                  9   \n",
       "1               4        0          7          3                  5   \n",
       "2               4        7          7          5                  5   \n",
       "3               4        2          7          3                  9   \n",
       "4               4        0          9          3                  5   \n",
       "...           ...      ...        ...        ...                ...   \n",
       "69042           3        3          3          0                  7   \n",
       "69043           3        3          3          2                  7   \n",
       "69044           3        3          3          0                  7   \n",
       "69045           3        3          3          2                  7   \n",
       "69046           3        3          3          0                  7   \n",
       "\n",
       "       cap-color  gill-attachment  veil-type  gill-color  gill-spacing  \\\n",
       "0              3                4          2          10             4   \n",
       "1              7                4          2          10             4   \n",
       "2              6                4          2           4             4   \n",
       "3              6                4          2           4             4   \n",
       "4              1                4          2          10             3   \n",
       "...          ...              ...        ...         ...           ...   \n",
       "69042          7                4          0           7             2   \n",
       "69043          7                4          0           7             2   \n",
       "69044          7                4          0           7             2   \n",
       "69045          7                4          0           7             2   \n",
       "69046          7                4          0           7             2   \n",
       "\n",
       "       cap-surface  \n",
       "0                0  \n",
       "1                0  \n",
       "2                0  \n",
       "3                9  \n",
       "4                0  \n",
       "...            ...  \n",
       "69042            0  \n",
       "69043            0  \n",
       "69044            0  \n",
       "69045            0  \n",
       "69046            0  \n",
       "\n",
       "[69047 rows x 11 columns]"
      ]
     },
     "execution_count": 8,
     "metadata": {},
     "output_type": "execute_result"
    }
   ],
   "source": [
    "X"
   ]
  },
  {
   "cell_type": "code",
   "execution_count": 9,
   "id": "c8f4efab",
   "metadata": {
    "execution": {
     "iopub.execute_input": "2024-04-06T06:38:41.449031Z",
     "iopub.status.busy": "2024-04-06T06:38:41.448657Z",
     "iopub.status.idle": "2024-04-06T06:38:41.455817Z",
     "shell.execute_reply": "2024-04-06T06:38:41.454606Z"
    },
    "papermill": {
     "duration": 0.019445,
     "end_time": "2024-04-06T06:38:41.458281",
     "exception": false,
     "start_time": "2024-04-06T06:38:41.438836",
     "status": "completed"
    },
    "tags": []
   },
   "outputs": [
    {
     "data": {
      "text/plain": [
       "array([1, 0, 0, ..., 1, 1, 1])"
      ]
     },
     "execution_count": 9,
     "metadata": {},
     "output_type": "execute_result"
    }
   ],
   "source": [
    "y"
   ]
  },
  {
   "cell_type": "code",
   "execution_count": 10,
   "id": "261c6034",
   "metadata": {
    "execution": {
     "iopub.execute_input": "2024-04-06T06:38:41.477989Z",
     "iopub.status.busy": "2024-04-06T06:38:41.477118Z",
     "iopub.status.idle": "2024-04-06T06:38:41.485879Z",
     "shell.execute_reply": "2024-04-06T06:38:41.484746Z"
    },
    "papermill": {
     "duration": 0.021564,
     "end_time": "2024-04-06T06:38:41.488522",
     "exception": false,
     "start_time": "2024-04-06T06:38:41.466958",
     "status": "completed"
    },
    "tags": []
   },
   "outputs": [],
   "source": [
    "X_train, X_test, y_train, y_test = train_test_split(X, y, test_size=0.3)"
   ]
  },
  {
   "cell_type": "markdown",
   "id": "6d27f4b6",
   "metadata": {
    "papermill": {
     "duration": 0.008494,
     "end_time": "2024-04-06T06:38:41.505805",
     "exception": false,
     "start_time": "2024-04-06T06:38:41.497311",
     "status": "completed"
    },
    "tags": []
   },
   "source": [
    "## Creating and training models"
   ]
  },
  {
   "cell_type": "code",
   "execution_count": 11,
   "id": "56787943",
   "metadata": {
    "execution": {
     "iopub.execute_input": "2024-04-06T06:38:41.527096Z",
     "iopub.status.busy": "2024-04-06T06:38:41.526328Z",
     "iopub.status.idle": "2024-04-06T06:38:41.531830Z",
     "shell.execute_reply": "2024-04-06T06:38:41.530647Z"
    },
    "papermill": {
     "duration": 0.019389,
     "end_time": "2024-04-06T06:38:41.534376",
     "exception": false,
     "start_time": "2024-04-06T06:38:41.514987",
     "status": "completed"
    },
    "tags": []
   },
   "outputs": [],
   "source": [
    "decision_tree_model = DecisionTreeClassifier()"
   ]
  },
  {
   "cell_type": "code",
   "execution_count": 12,
   "id": "80258734",
   "metadata": {
    "execution": {
     "iopub.execute_input": "2024-04-06T06:38:41.553734Z",
     "iopub.status.busy": "2024-04-06T06:38:41.553302Z",
     "iopub.status.idle": "2024-04-06T06:38:50.575043Z",
     "shell.execute_reply": "2024-04-06T06:38:50.573522Z"
    },
    "papermill": {
     "duration": 9.039155,
     "end_time": "2024-04-06T06:38:50.582246",
     "exception": false,
     "start_time": "2024-04-06T06:38:41.543091",
     "status": "completed"
    },
    "tags": []
   },
   "outputs": [
    {
     "data": {
      "text/plain": [
       "['decision_tree_model.pkl']"
      ]
     },
     "execution_count": 12,
     "metadata": {},
     "output_type": "execute_result"
    }
   ],
   "source": [
    "decision_tree_model.fit(X_train, y_train)\n",
    "\n",
    "import joblib\n",
    "joblib.dump(decision_tree_model, \"decision_tree_model.pkl\")"
   ]
  },
  {
   "cell_type": "markdown",
   "id": "8ba1dd6e",
   "metadata": {
    "papermill": {
     "duration": 0.020763,
     "end_time": "2024-04-06T06:38:50.622732",
     "exception": false,
     "start_time": "2024-04-06T06:38:50.601969",
     "status": "completed"
    },
    "tags": []
   },
   "source": [
    "## Making predictions"
   ]
  },
  {
   "cell_type": "code",
   "execution_count": 13,
   "id": "76c98482",
   "metadata": {
    "execution": {
     "iopub.execute_input": "2024-04-06T06:38:50.668171Z",
     "iopub.status.busy": "2024-04-06T06:38:50.667457Z",
     "iopub.status.idle": "2024-04-06T06:38:50.701332Z",
     "shell.execute_reply": "2024-04-06T06:38:50.699707Z"
    },
    "papermill": {
     "duration": 0.061801,
     "end_time": "2024-04-06T06:38:50.706477",
     "exception": false,
     "start_time": "2024-04-06T06:38:50.644676",
     "status": "completed"
    },
    "tags": []
   },
   "outputs": [],
   "source": [
    "tree_pred = decision_tree_model.predict(X_test)"
   ]
  },
  {
   "cell_type": "markdown",
   "id": "4663059f",
   "metadata": {
    "papermill": {
     "duration": 0.019038,
     "end_time": "2024-04-06T06:38:50.745808",
     "exception": false,
     "start_time": "2024-04-06T06:38:50.726770",
     "status": "completed"
    },
    "tags": []
   },
   "source": [
    "## Comparing the performances"
   ]
  },
  {
   "cell_type": "code",
   "execution_count": 14,
   "id": "c628cede",
   "metadata": {
    "execution": {
     "iopub.execute_input": "2024-04-06T06:38:50.791436Z",
     "iopub.status.busy": "2024-04-06T06:38:50.790718Z",
     "iopub.status.idle": "2024-04-06T06:38:50.869410Z",
     "shell.execute_reply": "2024-04-06T06:38:50.868007Z"
    },
    "papermill": {
     "duration": 0.10587,
     "end_time": "2024-04-06T06:38:50.872129",
     "exception": false,
     "start_time": "2024-04-06T06:38:50.766259",
     "status": "completed"
    },
    "tags": []
   },
   "outputs": [],
   "source": [
    "tree_report = classification_report(y_test, tree_pred)"
   ]
  },
  {
   "cell_type": "code",
   "execution_count": 15,
   "id": "4de41b51",
   "metadata": {
    "execution": {
     "iopub.execute_input": "2024-04-06T06:38:50.892499Z",
     "iopub.status.busy": "2024-04-06T06:38:50.892029Z",
     "iopub.status.idle": "2024-04-06T06:38:50.900702Z",
     "shell.execute_reply": "2024-04-06T06:38:50.898893Z"
    },
    "papermill": {
     "duration": 0.02176,
     "end_time": "2024-04-06T06:38:50.903366",
     "exception": false,
     "start_time": "2024-04-06T06:38:50.881606",
     "status": "completed"
    },
    "tags": []
   },
   "outputs": [
    {
     "name": "stdout",
     "output_type": "stream",
     "text": [
      "Decision Tree\n",
      "              precision    recall  f1-score   support\n",
      "\n",
      "           0       0.99      0.99      0.99      9420\n",
      "           1       0.99      0.99      0.99     11295\n",
      "\n",
      "    accuracy                           0.99     20715\n",
      "   macro avg       0.99      0.99      0.99     20715\n",
      "weighted avg       0.99      0.99      0.99     20715\n",
      "\n"
     ]
    }
   ],
   "source": [
    "print('Decision Tree')\n",
    "print(tree_report)"
   ]
  },
  {
   "cell_type": "markdown",
   "id": "70e3eaef",
   "metadata": {
    "papermill": {
     "duration": 0.00966,
     "end_time": "2024-04-06T06:38:50.922556",
     "exception": false,
     "start_time": "2024-04-06T06:38:50.912896",
     "status": "completed"
    },
    "tags": []
   },
   "source": [
    "## Evaluation\n",
    "Decision tree performed best.\n",
    "Let's try the Random Forest algorithm to see if it works better."
   ]
  },
  {
   "cell_type": "code",
   "execution_count": 16,
   "id": "34026fbd",
   "metadata": {
    "execution": {
     "iopub.execute_input": "2024-04-06T06:38:50.943095Z",
     "iopub.status.busy": "2024-04-06T06:38:50.942638Z",
     "iopub.status.idle": "2024-04-06T06:38:51.398682Z",
     "shell.execute_reply": "2024-04-06T06:38:51.397381Z"
    },
    "papermill": {
     "duration": 0.469726,
     "end_time": "2024-04-06T06:38:51.401648",
     "exception": false,
     "start_time": "2024-04-06T06:38:50.931922",
     "status": "completed"
    },
    "tags": []
   },
   "outputs": [],
   "source": [
    "random_forest_model = RandomForestClassifier()\n",
    "random_forest_model.fit(X_train, y_train)\n",
    "random_forest_pred = random_forest_model.predict(X_test)"
   ]
  },
  {
   "cell_type": "code",
   "execution_count": 17,
   "id": "a67efe72",
   "metadata": {
    "execution": {
     "iopub.execute_input": "2024-04-06T06:38:51.423185Z",
     "iopub.status.busy": "2024-04-06T06:38:51.421857Z",
     "iopub.status.idle": "2024-04-06T06:38:51.444489Z",
     "shell.execute_reply": "2024-04-06T06:38:51.442978Z"
    },
    "papermill": {
     "duration": 0.036365,
     "end_time": "2024-04-06T06:38:51.447304",
     "exception": false,
     "start_time": "2024-04-06T06:38:51.410939",
     "status": "completed"
    },
    "tags": []
   },
   "outputs": [
    {
     "name": "stdout",
     "output_type": "stream",
     "text": [
      "              precision    recall  f1-score   support\n",
      "\n",
      "           0       0.99      0.99      0.99      9420\n",
      "           1       0.99      0.99      0.99     11295\n",
      "\n",
      "    accuracy                           0.99     20715\n",
      "   macro avg       0.99      0.99      0.99     20715\n",
      "weighted avg       0.99      0.99      0.99     20715\n",
      "\n"
     ]
    }
   ],
   "source": [
    "random_forest_report = classification_report(y_test, random_forest_pred)\n",
    "\n",
    "print(random_forest_report)"
   ]
  }
 ],
 "metadata": {
  "kaggle": {
   "accelerator": "none",
   "dataSources": [
    {
     "datasetId": 478,
     "sourceId": 974,
     "sourceType": "datasetVersion"
    }
   ],
   "dockerImageVersionId": 30673,
   "isGpuEnabled": false,
   "isInternetEnabled": true,
   "language": "python",
   "sourceType": "notebook"
  },
  "kernelspec": {
   "display_name": "Python 3",
   "language": "python",
   "name": "python3"
  },
  "language_info": {
   "codemirror_mode": {
    "name": "ipython",
    "version": 3
   },
   "file_extension": ".py",
   "mimetype": "text/x-python",
   "name": "python",
   "nbconvert_exporter": "python",
   "pygments_lexer": "ipython3",
   "version": "3.12.3"
  },
  "papermill": {
   "default_parameters": {},
   "duration": 17.492059,
   "end_time": "2024-04-06T06:38:52.179507",
   "environment_variables": {},
   "exception": null,
   "input_path": "__notebook__.ipynb",
   "output_path": "__notebook__.ipynb",
   "parameters": {},
   "start_time": "2024-04-06T06:38:34.687448",
   "version": "2.5.0"
  }
 },
 "nbformat": 4,
 "nbformat_minor": 5
}
